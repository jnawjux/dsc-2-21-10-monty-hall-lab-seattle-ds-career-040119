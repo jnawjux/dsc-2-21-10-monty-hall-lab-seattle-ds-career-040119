{
 "cells": [
  {
   "cell_type": "markdown",
   "metadata": {
    "collapsed": true
   },
   "source": [
    "#  The Monty Hall Problem - Lab\n",
    "\n",
    "## Introduction\n",
    "\n",
    "This lab requires you to deal with one of the popular probability problems. i.e. the Monty Hall Problem. Do some quick background search about Monty Hall and his quiz show to see how this problem came about. Here we shall quickly introduce the problem and take you through a series of exercises towards its solution.\n",
    "\n",
    "## Objectives\n",
    "\n",
    "You will be able to:\n",
    "* Understand and describe the Monty Hall problem in probabilistic terms\n",
    "* Solve the Monty Hall problem using Bayesian Logic and mathematical manipulations\n",
    "* Run a simulation to find the optimal answer for the problem, and check if it matches your calculations\n",
    "\n",
    "## The Problem\n",
    "\n",
    "#### You are on a game show, and you're given the choice of three doors.  Behind one door is a car, behind the others, goats. You pick a door, say No. 1, and the host, who knows what's behind the doors, opens another door, say No. 3, which has a goat. He then says to you, \"Do you want to pick door No. 2?\" \n",
    "\n",
    "### Is it to your advantage to change your choice , or would you rather stick with your initial choice?\n",
    "\n",
    "<img src=\"https://i.ytimg.com/vi/4Lb-6rxZxx0/maxresdefault.jpg\" width=600>\n",
    "\n",
    "This is a classical probability problem and shown here in the simplest form. Wikipedia maintains an excellent document on this problem , explanations and solutions presented, along with a critique of approaches. [Visit think link](https://en.wikipedia.org/wiki/Monty_Hall_problem) and have a quick read through introduction part to understand why this is such a popular puzzle to solve. \n",
    "\n",
    "Once you clearly understand the problem, answer following questions:\n"
   ]
  },
  {
   "cell_type": "markdown",
   "metadata": {},
   "source": [
    "## Part A: \n",
    "What does your intuition say?  Is it in your best interest to switch the door ? "
   ]
  },
  {
   "cell_type": "code",
   "execution_count": null,
   "metadata": {},
   "outputs": [],
   "source": [
    "# Your solution here  \n",
    "# Stay! its a 50/50 shot"
   ]
  },
  {
   "cell_type": "markdown",
   "metadata": {},
   "source": [
    "## Part B\n",
    "Let's assume that you pick door number 1 and Monty opens door number 3.  The question then is whether you stick with door number 1 or switch to door number 2. Let $D_i$ be the event that the car is actually behind door $i$.  Let $H$ be the event that Monty opens door number 3. First, compute $P(H \\mid D_i)$ for $i=1,2,3$.  You'll need to think carefully about the particular situation described above."
   ]
  },
  {
   "cell_type": "code",
   "execution_count": 53,
   "metadata": {},
   "outputs": [
    {
     "data": {
      "text/plain": [
       "(0.3333333333333333, 0.0, 0.6666666666666666)"
      ]
     },
     "execution_count": 53,
     "metadata": {},
     "output_type": "execute_result"
    }
   ],
   "source": [
    "Peh1 = 1/2\n",
    "Peh2 = 0\n",
    "Peh3 = 1\n",
    "Ph = (1/3)\n",
    "Pe = 1/2\n",
    "\n",
    "h1 = (Peh1 * Ph) / Pe\n",
    "h2 = (Peh2 * Ph) / Pe\n",
    "h3 = (Peh3 * Ph) / Pe\n",
    "h1, h2, h3"
   ]
  },
  {
   "cell_type": "markdown",
   "metadata": {},
   "source": [
    "## Part C\n",
    "Use your results from **Part B** and the Law of Total Probability to compute $P(H)$"
   ]
  },
  {
   "cell_type": "code",
   "execution_count": 10,
   "metadata": {},
   "outputs": [],
   "source": [
    "# Your solution here "
   ]
  },
  {
   "cell_type": "markdown",
   "metadata": {},
   "source": [
    "## Part D \n",
    "Now, use Bayes' Rule to compute $P(D_i \\mid H)$ for $i=1$ and $2$ (because these are the doors we care about). "
   ]
  },
  {
   "cell_type": "code",
   "execution_count": null,
   "metadata": {},
   "outputs": [],
   "source": [
    "# Your solution here\n"
   ]
  },
  {
   "cell_type": "markdown",
   "metadata": {},
   "source": [
    "## Part E\n",
    "\n",
    "Write some simple code in Python and Numpy to simulate the Monte Hall problem and verify your results from **Parts A-D**.\n",
    "\n",
    "We are providing you with the structure of the code, fill it the formulas for calculations/polling/switching etc. "
   ]
  },
  {
   "cell_type": "code",
   "execution_count": 50,
   "metadata": {},
   "outputs": [],
   "source": [
    "import numpy as np \n",
    "def make_a_deal(switch=True):\n",
    "    doors = range(3)\n",
    "    car = np.random.choice(doors)\n",
    "    first_choice = np.random.choice(doors)\n",
    "    montes_options = doors - car - first_choice\n",
    "    goat = doors - car\n",
    "    final_choice = \n",
    "    pass\n",
    "\n",
    "def monte_hall_sim(switch=True, num_trials=int(1e3)): \n",
    "    winners = make_a_deal(switch=switch)\n",
    "    state = \"switching\"  # \"switching)\" if switch else \"not switching)\"\n",
    "    prob = winners / num_trials\n",
    "    print(f\"Prob by {state} = {prob}\")"
   ]
  },
  {
   "cell_type": "code",
   "execution_count": 73,
   "metadata": {},
   "outputs": [
    {
     "data": {
      "text/plain": [
       "[1, 2]"
      ]
     },
     "execution_count": 73,
     "metadata": {},
     "output_type": "execute_result"
    }
   ],
   "source": [
    "# Uncomment and run the cells below \n",
    "\n",
    "doors = [1,2,3]\n",
    "car = np.random.choice(doors)\n",
    "first_choice = np.random.choice(doors)\n",
    "goat = doors.copy()\n",
    "goat.remove(car)\n",
    "monte = goat.copy()\n",
    "monte.remove(first_choice)\n",
    "if switch = True:\n",
    "    final_choice  = doors.copy()\n",
    "    final_choice.remove(first_choice)\n",
    "    \n",
    "else: \n",
    "    final_choice = first_choice\n"
   ]
  },
  {
   "cell_type": "code",
   "execution_count": 52,
   "metadata": {},
   "outputs": [
    {
     "ename": "TypeError",
     "evalue": "unsupported operand type(s) for /: 'NoneType' and 'int'",
     "output_type": "error",
     "traceback": [
      "\u001b[0;31m\u001b[0m",
      "\u001b[0;31mTypeError\u001b[0mTraceback (most recent call last)",
      "\u001b[0;32m<ipython-input-52-506e47fc3ef0>\u001b[0m in \u001b[0;36m<module>\u001b[0;34m()\u001b[0m\n\u001b[0;32m----> 1\u001b[0;31m \u001b[0mmonte_hall_sim\u001b[0m\u001b[0;34m(\u001b[0m\u001b[0mswitch\u001b[0m\u001b[0;34m=\u001b[0m\u001b[0;32mTrue\u001b[0m\u001b[0;34m,\u001b[0m \u001b[0mnum_trials\u001b[0m\u001b[0;34m=\u001b[0m\u001b[0mint\u001b[0m\u001b[0;34m(\u001b[0m\u001b[0;36m1e5\u001b[0m\u001b[0;34m)\u001b[0m\u001b[0;34m)\u001b[0m\u001b[0;34m\u001b[0m\u001b[0m\n\u001b[0m\u001b[1;32m      2\u001b[0m \u001b[0;34m\u001b[0m\u001b[0m\n\u001b[1;32m      3\u001b[0m \u001b[0;31m# P(winning by switching) = 0.6675\u001b[0m\u001b[0;34m\u001b[0m\u001b[0;34m\u001b[0m\u001b[0m\n",
      "\u001b[0;32m<ipython-input-50-c7add0b82b5a>\u001b[0m in \u001b[0;36mmonte_hall_sim\u001b[0;34m(switch, num_trials)\u001b[0m\n\u001b[1;32m     12\u001b[0m     \u001b[0mwinners\u001b[0m \u001b[0;34m=\u001b[0m \u001b[0mmake_a_deal\u001b[0m\u001b[0;34m(\u001b[0m\u001b[0mswitch\u001b[0m\u001b[0;34m=\u001b[0m\u001b[0mswitch\u001b[0m\u001b[0;34m)\u001b[0m\u001b[0;34m\u001b[0m\u001b[0m\n\u001b[1;32m     13\u001b[0m     \u001b[0mstate\u001b[0m \u001b[0;34m=\u001b[0m \u001b[0;34m\"switching\"\u001b[0m  \u001b[0;31m# \"switching)\" if switch else \"not switching)\"\u001b[0m\u001b[0;34m\u001b[0m\u001b[0m\n\u001b[0;32m---> 14\u001b[0;31m     \u001b[0mprob\u001b[0m \u001b[0;34m=\u001b[0m \u001b[0mwinners\u001b[0m\u001b[0;34m/\u001b[0m\u001b[0mnum_trials\u001b[0m\u001b[0;34m\u001b[0m\u001b[0m\n\u001b[0m\u001b[1;32m     15\u001b[0m     \u001b[0mprint\u001b[0m\u001b[0;34m(\u001b[0m\u001b[0;34mf\"Prob by {state} = {prob}\"\u001b[0m\u001b[0;34m)\u001b[0m\u001b[0;34m\u001b[0m\u001b[0m\n",
      "\u001b[0;31mTypeError\u001b[0m: unsupported operand type(s) for /: 'NoneType' and 'int'"
     ]
    }
   ],
   "source": [
    "monte_hall_sim(switch=True, num_trials=int(1e5))\n",
    "\n",
    "# P(winning by switching) = 0.6675"
   ]
  },
  {
   "cell_type": "code",
   "execution_count": 6,
   "metadata": {},
   "outputs": [],
   "source": [
    "#monte_hall_sim(switch=False, num_trials=int(1e5))\n",
    "\n",
    "\n",
    "\n",
    "# P(winning by not switching) = 0.3351"
   ]
  },
  {
   "cell_type": "code",
   "execution_count": 4,
   "metadata": {},
   "outputs": [],
   "source": [
    "# Record your observations here "
   ]
  },
  {
   "cell_type": "markdown",
   "metadata": {},
   "source": [
    "## Summary \n",
    "\n",
    "In this lab, we used Bayesian calculations to solve the Monty Hall problem. We also looked at running a simulation in Numpy to prove our results through repeated random sampling from the given probability distributions. We found the results to be same as what we calculated by hand. Once again, we see how Bayesian logic can truly reflect a real life phenomenon in terms of prior and posterior knowledge. "
   ]
  }
 ],
 "metadata": {
  "kernelspec": {
   "display_name": "Python 3",
   "language": "python",
   "name": "python3"
  },
  "language_info": {
   "codemirror_mode": {
    "name": "ipython",
    "version": 3
   },
   "file_extension": ".py",
   "mimetype": "text/x-python",
   "name": "python",
   "nbconvert_exporter": "python",
   "pygments_lexer": "ipython3",
   "version": "3.6.6"
  }
 },
 "nbformat": 4,
 "nbformat_minor": 2
}
